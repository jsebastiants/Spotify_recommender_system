{
 "cells": [
  {
   "cell_type": "code",
   "execution_count": null,
   "id": "3626cfea",
   "metadata": {},
   "outputs": [],
   "source": [
    "# Import Libraries\n",
    "!pip install psycopg2\n",
    "\n",
    "import requests\n",
    "import pandas as pd\n",
    "import datetime\n",
    "import psycopg2 as ps"
   ]
  },
  {
   "cell_type": "code",
   "execution_count": null,
   "id": "f1413858",
   "metadata": {},
   "outputs": [],
   "source": [
    "# Calling the API\n",
    "page_Token = 'BQCJk9gExrMOyB8xWkJa1ZWlIeto-yFwxPZlx1hfRD0sX8gW1ASW68tLt-NAWdU_qzZMN1laSN9bTDBqkSrJNSlbGMy6X_1tYs9qrk3Lt3QA_BrdH47Gv7L6l0RvACwU6GmIhl16YCN9_FWEpKasWH-vBIT8STKcS1SEgjghdFLPFAIGhzZLP00qtSpjEAmTLHoVsg'\n",
    "headers = {\n",
    "    \"Accept\": \"application/json\",\n",
    "    \"Content_type\": \"application/json\",\n",
    "    \"Authorization\": \"Bearer {token}\".format(token=page_Token)\n",
    "}\n",
    "\n",
    "#Spotify uses unix timestamp\n",
    "today = datetime.datetime.now()\n",
    "yesterday = today - datetime.timedelta(hours=1)\n",
    "yesterday_unix_timestamp = int(yesterday.timestamp())*1000\n",
    "\n",
    "url_time= 'https://api.spotify.com/v1/me/player/recently-played?after={time}'.format(time=yesterday_unix_timestamp)\n",
    "r_time = requests.get(url_time, headers=headers).json()\n",
    "r_time['items'][0]['played_at']"
   ]
  },
  {
   "cell_type": "code",
   "execution_count": null,
   "id": "17def0d1",
   "metadata": {},
   "outputs": [],
   "source": [
    "uri= []\n",
    "song_names= []\n",
    "artist_names= []\n",
    "popularity= []\n",
    "\n",
    "for song in r_time['items']:\n",
    "    uri.append(song['track']['id'])\n",
    "    song_names.append(song['track']['name'])\n",
    "    artist_names.append(song['track']['artists'][0]['name'])\n",
    "    popularity.append(song['track']['popularity'])\n",
    "\n",
    "song_dict= {\n",
    "    'id': uri,\n",
    "    'song_names': song_names,\n",
    "    'artist_names': artist_names,\n",
    "    'uri': uri,\n",
    "    'popularity': popularity,\n",
    "}\n",
    "    \n",
    "# We drop duplicates based on uri column\n",
    "song_df = pd.DataFrame(song_dict, columns=['uri', 'song_names', 'artist_names', 'popularity'])\n",
    "song_df = song_df.drop_duplicates()\n",
    "song_df"
   ]
  },
  {
   "cell_type": "code",
   "execution_count": null,
   "id": "c1c9fa8d",
   "metadata": {},
   "outputs": [],
   "source": [
    "BASE_URL = 'https://api.spotify.com/v1/'\n",
    "feature_dict = {}\n",
    "track_uris = song_df['uri'].to_list()\n",
    "\n",
    "for t_uri in track_uris:\n",
    "    \n",
    "    feature_dict[t_uri] = {'popularity': 0,\n",
    "                         'acousticness': 0,\n",
    "                         'danceability': 0,\n",
    "                         'duration_ms': 0,\n",
    "                         'energy': 0,\n",
    "                         'liveness': 0,\n",
    "                         'loudness': 0,\n",
    "                         'mode': 0,\n",
    "                         'speechiness': 0,\n",
    "                         'instrumentalness': 0,\n",
    "                         'tempo': 0,\n",
    "                         'valence': 0}\n",
    "    \n",
    "    r = requests.get(BASE_URL + 'tracks/' + t_uri, headers=headers)\n",
    "    r = r.json()\n",
    "    feature_dict[t_uri]['popularity'] = r['popularity']\n",
    "    \n",
    "    s = requests.get(BASE_URL + 'audio-features/' + t_uri, headers=headers)\n",
    "    s = s.json()\n",
    "    feature_dict[t_uri]['acousticness'] = s['acousticness']\n",
    "    feature_dict[t_uri]['danceability'] = s['danceability']\n",
    "    feature_dict[t_uri]['duration_ms'] = s['duration_ms']\n",
    "    feature_dict[t_uri]['energy'] = s['energy']\n",
    "    feature_dict[t_uri]['liveness'] = s['liveness']\n",
    "    feature_dict[t_uri]['loudness'] = s['loudness']\n",
    "    feature_dict[t_uri]['mode'] = s['mode']\n",
    "    feature_dict[t_uri]['speechiness'] = s['speechiness']\n",
    "    feature_dict[t_uri]['instrumentalness'] = s['instrumentalness']\n",
    "    feature_dict[t_uri]['tempo'] = s['tempo']\n",
    "    feature_dict[t_uri]['valence'] = s['valence']"
   ]
  },
  {
   "cell_type": "code",
   "execution_count": null,
   "id": "f5afa259",
   "metadata": {},
   "outputs": [],
   "source": [
    "df_features = pd.DataFrame.from_dict(feature_dict, orient='index')\n",
    "df_features.insert(0, 'uri', df_features.index)\n",
    "df_features.reset_index(inplace=True, drop=True)\n",
    "\n",
    "df_features.head(20)"
   ]
  },
  {
   "cell_type": "code",
   "execution_count": null,
   "id": "2f00b042",
   "metadata": {},
   "outputs": [],
   "source": [
    "\n",
    "#Vamos a unir las tablas\n",
    "spotify_df = pd.merge(song_df, df_features)\n",
    "spotify_df = spotify_df.drop('uri', axis=1)\n",
    "spotify_df"
   ]
  },
  {
   "cell_type": "code",
   "execution_count": null,
   "id": "ad4aaaaf",
   "metadata": {},
   "outputs": [],
   "source": [
    "\n",
    "def connect_to_db(host_name, dbname, port, username, password):\n",
    "    try:\n",
    "        conn = ps.connect(host=host_name, database=dbname, user=username, password=password, port=port)\n",
    "\n",
    "    except mysql.connector.OperationalError as e:\n",
    "        raise e\n",
    "    else:\n",
    "        print('Connected!')\n",
    "    return conn  "
   ]
  },
  {
   "cell_type": "code",
   "execution_count": null,
   "id": "cdbaa573",
   "metadata": {},
   "outputs": [],
   "source": [
    "host_name = 'localhost'\n",
    "dbname = \"Spotify_data\"\n",
    "port = '5432'\n",
    "username = 'postgres'\n",
    "password = 'llbastian_torresll'\n",
    "conn= None\n",
    "\n",
    "conn = connect_to_db(host_name, dbname, port, username, password)"
   ]
  },
  {
   "cell_type": "code",
   "execution_count": null,
   "id": "0dc16a06",
   "metadata": {},
   "outputs": [],
   "source": [
    "def create_table(curr):\n",
    "    create_table_command = (\"\"\"CREATE TABLE IF NOT EXISTS songs(\n",
    "                        song_names VARCHAR(200) PRIMARY KEY,\n",
    "                        artist_names VARCHAR(200) NOT NULL,\n",
    "                        popularity INT NOT NULL,\n",
    "                        acousticness FLOAT NOT NULL,\n",
    "                        danceability FLOAT NOT NULL,\n",
    "                        duration_ms INT NOT NULL,\n",
    "                        energy FLOAT NOT NULL,\n",
    "                        liveness FLOAT NOT NULL,\n",
    "                        loudness FLOAT NOT NULL,\n",
    "                        mode INT NOT NULL,\n",
    "                        speechiness FLOAT NOT NULL,\n",
    "                        instrumentalness FLOAT NOT NULL,\n",
    "                        tempo FLOAT NOT NULL, \n",
    "                        valence FLOAT NOT NULL\n",
    "                        );\"\"\")\n",
    "\n",
    "    curr.execute(create_table_command)"
   ]
  },
  {
   "cell_type": "code",
   "execution_count": null,
   "id": "992eabe8",
   "metadata": {},
   "outputs": [],
   "source": [
    "#write insert command \n",
    "def insert_into_table(curr,song_names, artist_names, popularity, acousticness, danceability, duration_ms, energy, liveness, loudness, mode, speechiness, instrumentalness, tempo, valence):\n",
    "    insert_into_songs = (\"\"\"INSERT INTO songs (song_names, artist_names, popularity, acousticness, danceability, duration_ms, energy, liveness, loudness, mode, speechiness, instrumentalness, tempo, valence)\n",
    "    VALUES(%s, %s, %s, %s, %s, %s, %s, %s, %s, %s, %s, %s, %s, %s);\"\"\")\n",
    "\n",
    "    row_to_insert = (song_names, artist_names, popularity, acousticness, danceability, duration_ms, energy, liveness, loudness, mode, speechiness, instrumentalness, tempo, valence)\n",
    "\n",
    "    curr.execute(insert_into_songs, row_to_insert)"
   ]
  },
  {
   "cell_type": "code",
   "execution_count": null,
   "id": "664de8ef",
   "metadata": {},
   "outputs": [],
   "source": [
    "#check_song_exist\n",
    "def check_if_song_exists(curr, song_names, artist_names):\n",
    "    query = (\"\"\"SELECT song_names FROM songs WHERE song_names = %s AND artist_names = %s\"\"\")\n",
    "    curr.execute(query, (song_names, artist_names,))\n",
    "    \n",
    "    return curr.fetchone() is not None "
   ]
  },
  {
   "cell_type": "code",
   "execution_count": null,
   "id": "ef3732b2",
   "metadata": {},
   "outputs": [],
   "source": [
    "def append_from_df_to_db(curr, spotify_df):\n",
    "    for i, row in spotify_df.iterrows():\n",
    "          insert_into_table(curr, row['song_names'], row['artist_names'], row['popularity'], row['acousticness'], row['danceability'], row['duration_ms'], row['energy'], row['liveness'], row['loudness'], row['mode'], row['speechiness'], row['instrumentalness'], row['tempo'], row['valence'])"
   ]
  },
  {
   "cell_type": "code",
   "execution_count": null,
   "id": "5aa358d1",
   "metadata": {},
   "outputs": [],
   "source": [
    "#Check if song exist in the db\n",
    "def update_db(curr, spotify_df):\n",
    "    tmp_df = pd.DataFrame(columns=['song_names', 'artist_names', 'popularity', 'acousticness', 'danceability', 'duration_ms', 'energy', 'liveness', 'loudness', 'mode', 'speechiness', 'instrumentalness', 'tempo', 'valence'])\n",
    "\n",
    "    for i, row in spotify_df.iterrows():\n",
    "          if check_if_song_exists(curr, row['song_names'], row['artist_names']): #If song already exists then we'll pass\n",
    "            pass\n",
    "          else:  #The song doesn't exists so we'll append to the db table\n",
    "            tmp_df = tmp_df.append(row)\n",
    "\n",
    "    return tmp_df"
   ]
  },
  {
   "cell_type": "code",
   "execution_count": null,
   "id": "eb0036ae",
   "metadata": {},
   "outputs": [],
   "source": [
    "curr = conn.cursor()"
   ]
  },
  {
   "cell_type": "code",
   "execution_count": null,
   "id": "ccdb5f39",
   "metadata": {},
   "outputs": [],
   "source": [
    "create_table(curr)"
   ]
  },
  {
   "cell_type": "code",
   "execution_count": null,
   "id": "783176e9",
   "metadata": {},
   "outputs": [],
   "source": [
    "new_songs_df = update_db(curr, spotify_df)\n",
    "conn.commit()"
   ]
  },
  {
   "cell_type": "code",
   "execution_count": null,
   "id": "e0f45407",
   "metadata": {},
   "outputs": [],
   "source": [
    "new_songs_df"
   ]
  },
  {
   "cell_type": "code",
   "execution_count": null,
   "id": "1f9b83cb",
   "metadata": {},
   "outputs": [],
   "source": [
    "append_from_df_to_db(curr, new_songs_df)\n",
    "conn.commit()"
   ]
  }
 ],
 "metadata": {
  "kernelspec": {
   "display_name": "base",
   "language": "python",
   "name": "python3"
  },
  "language_info": {
   "codemirror_mode": {
    "name": "ipython",
    "version": 3
   },
   "file_extension": ".py",
   "mimetype": "text/x-python",
   "name": "python",
   "nbconvert_exporter": "python",
   "pygments_lexer": "ipython3",
   "version": "3.9.13"
  },
  "vscode": {
   "interpreter": {
    "hash": "487b39d4bc77932302fbf00c8aa33c8cae154b5482e37c69cf95409c8a1ceaae"
   }
  }
 },
 "nbformat": 4,
 "nbformat_minor": 5
}
